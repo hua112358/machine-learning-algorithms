{
 "cells": [
  {
   "cell_type": "code",
   "execution_count": 11,
   "metadata": {
    "collapsed": true
   },
   "outputs": [],
   "source": [
    "#导入数据\n",
    "import numpy as np\n",
    "points_dataset = np.loadtxt('points_dataset.txt')\n",
    "X = points_dataset[:,:-1]\n",
    "y = points_dataset[:,-1].astype(int)"
   ]
  },
  {
   "cell_type": "code",
   "execution_count": 14,
   "metadata": {},
   "outputs": [
    {
     "data": {
      "image/png": "[encoded data removed]",
      "text/plain": [
       "<matplotlib.figure.Figure at 0x2b13e20b240>"
      ]
     },
     "metadata": {},
     "output_type": "display_data"
    }
   ],
   "source": [
    "#数据可视化\n",
    "%matplotlib inline\n",
    "import matplotlib.pyplot as plt\n",
    "plt.figure()\n",
    "plt.scatter(X[:,0],X[:,1],c = y,cmap = plt.cm.Paired)\n",
    "plt.show()"
   ]
  },
  {
   "cell_type": "code",
   "execution_count": 18,
   "metadata": {},
   "outputs": [
    {
     "name": "stdout",
     "output_type": "stream",
     "text": [
      "0.949754901961\n"
     ]
    },
    {
     "name": "stderr",
     "output_type": "stream",
     "text": [
      "c:\\users\\huashaojie\\python36\\lib\\site-packages\\sklearn\\linear_model\\sag.py:286: ConvergenceWarning: The max_iter was reached which means the coef_ did not converge\n",
      "  \"the coef_ did not converge\", ConvergenceWarning)\n",
      "c:\\users\\huashaojie\\python36\\lib\\site-packages\\sklearn\\linear_model\\sag.py:286: ConvergenceWarning: The max_iter was reached which means the coef_ did not converge\n",
      "  \"the coef_ did not converge\", ConvergenceWarning)\n",
      "c:\\users\\huashaojie\\python36\\lib\\site-packages\\sklearn\\linear_model\\sag.py:286: ConvergenceWarning: The max_iter was reached which means the coef_ did not converge\n",
      "  \"the coef_ did not converge\", ConvergenceWarning)\n"
     ]
    }
   ],
   "source": [
    "#构建、评估模型\n",
    "from sklearn.linear_model import LogisticRegression\n",
    "clf = LogisticRegression(solver = 'sag')\n",
    "from sklearn.model_selection import cross_val_score\n",
    "scores = cross_val_score(clf,X,y,scoring = 'accuracy')\n",
    "import numpy as np\n",
    "print(np.mean(scores))"
   ]
  },
  {
   "cell_type": "code",
   "execution_count": 22,
   "metadata": {},
   "outputs": [
    {
     "name": "stderr",
     "output_type": "stream",
     "text": [
      "c:\\users\\huashaojie\\python36\\lib\\site-packages\\sklearn\\linear_model\\sag.py:286: ConvergenceWarning: The max_iter was reached which means the coef_ did not converge\n",
      "  \"the coef_ did not converge\", ConvergenceWarning)\n",
      "c:\\users\\huashaojie\\python36\\lib\\site-packages\\sklearn\\linear_model\\sag.py:286: ConvergenceWarning: The max_iter was reached which means the coef_ did not converge\n",
      "  \"the coef_ did not converge\", ConvergenceWarning)\n",
      "c:\\users\\huashaojie\\python36\\lib\\site-packages\\sklearn\\linear_model\\sag.py:286: ConvergenceWarning: The max_iter was reached which means the coef_ did not converge\n",
      "  \"the coef_ did not converge\", ConvergenceWarning)\n",
      "c:\\users\\huashaojie\\python36\\lib\\site-packages\\sklearn\\linear_model\\sag.py:286: ConvergenceWarning: The max_iter was reached which means the coef_ did not converge\n",
      "  \"the coef_ did not converge\", ConvergenceWarning)\n"
     ]
    },
    {
     "data": {
      "text/plain": [
       "GridSearchCV(cv=None, error_score='raise',\n",
       "       estimator=LogisticRegression(C=1.0, class_weight=None, dual=False, fit_intercept=True,\n",
       "          intercept_scaling=1, max_iter=100, multi_class='ovr', n_jobs=1,\n",
       "          penalty='l2', random_state=None, solver='liblinear', tol=0.0001,\n",
       "          verbose=0, warm_start=False),\n",
       "       fit_params={}, iid=True, n_jobs=1,\n",
       "       param_grid={'solver': ['liblinear', 'sag', 'newton-cg', 'lbfgs'], 'max_iter': [100, 1000, 10000, 100000]},\n",
       "       pre_dispatch='2*n_jobs', refit=True, return_train_score=True,\n",
       "       scoring=None, verbose=0)"
      ]
     },
     "execution_count": 22,
     "metadata": {},
     "output_type": "execute_result"
    }
   ],
   "source": [
    "#寻找最优参数\n",
    "from sklearn.model_selection import GridSearchCV\n",
    "clf = LogisticRegression()\n",
    "parameters = {'solver':['liblinear','sag','newton-cg','lbfgs'],'max_iter':[100,1000,10000,100000]} \n",
    "grid_searched_clf = GridSearchCV(clf,parameters)\n",
    "grid_searched_clf.fit(X,y)"
   ]
  },
  {
   "cell_type": "code",
   "execution_count": 27,
   "metadata": {
    "scrolled": false
   },
   "outputs": [
    {
     "name": "stdout",
     "output_type": "stream",
     "text": [
      "LogisticRegression(C=1.0, class_weight=None, dual=False, fit_intercept=True,\n",
      "          intercept_scaling=1, max_iter=1000, multi_class='ovr', n_jobs=1,\n",
      "          penalty='l2', random_state=None, solver='sag', tol=0.0001,\n",
      "          verbose=0, warm_start=False)\n",
      "{'max_iter': 1000, 'solver': 'sag'}\n",
      "0.96\n",
      "{'split0_test_score': array([ 0.85294118,  0.97058824,  0.94117647,  0.94117647,  0.85294118,\n",
      "        0.97058824,  0.94117647,  0.94117647,  0.85294118,  0.97058824,\n",
      "        0.94117647,  0.94117647,  0.85294118,  0.97058824,  0.94117647,\n",
      "        0.94117647]), 'split1_test_score': array([ 0.91176471,  0.94117647,  0.97058824,  0.97058824,  0.91176471,\n",
      "        0.97058824,  0.97058824,  0.97058824,  0.91176471,  0.97058824,\n",
      "        0.97058824,  0.97058824,  0.91176471,  0.97058824,  0.97058824,\n",
      "        0.97058824]), 'split2_test_score': array([ 0.96875,  0.9375 ,  0.9375 ,  0.9375 ,  0.96875,  0.9375 ,\n",
      "        0.9375 ,  0.9375 ,  0.96875,  0.9375 ,  0.9375 ,  0.9375 ,\n",
      "        0.96875,  0.9375 ,  0.9375 ,  0.9375 ]), 'mean_test_score': array([ 0.91,  0.95,  0.95,  0.95,  0.91,  0.96,  0.95,  0.95,  0.91,\n",
      "        0.96,  0.95,  0.95,  0.91,  0.96,  0.95,  0.95]), 'std_test_score': array([ 0.04703722,  0.01485221,  0.01485221,  0.01485221,  0.04703722,\n",
      "        0.01543487,  0.01485221,  0.01485221,  0.04703722,  0.01543487,\n",
      "        0.01485221,  0.01485221,  0.04703722,  0.01543487,  0.01485221,\n",
      "        0.01485221]), 'rank_test_score': array([13,  4,  4,  4, 13,  1,  4,  4, 13,  1,  4,  4, 13,  1,  4,  4]), 'split0_train_score': array([ 0.96969697,  0.96969697,  0.96969697,  0.96969697,  0.96969697,\n",
      "        0.96969697,  0.96969697,  0.96969697,  0.96969697,  0.96969697,\n",
      "        0.96969697,  0.96969697,  0.96969697,  0.96969697,  0.96969697,\n",
      "        0.96969697]), 'split1_train_score': array([ 0.93939394,  0.93939394,  0.93939394,  0.93939394,  0.93939394,\n",
      "        0.93939394,  0.93939394,  0.93939394,  0.93939394,  0.93939394,\n",
      "        0.93939394,  0.93939394,  0.93939394,  0.93939394,  0.93939394,\n",
      "        0.93939394]), 'split2_train_score': array([ 0.97058824,  0.95588235,  0.95588235,  0.95588235,  0.97058824,\n",
      "        0.95588235,  0.95588235,  0.95588235,  0.97058824,  0.95588235,\n",
      "        0.95588235,  0.95588235,  0.97058824,  0.95588235,  0.95588235,\n",
      "        0.95588235]), 'mean_train_score': array([ 0.95989305,  0.95499109,  0.95499109,  0.95499109,  0.95989305,\n",
      "        0.95499109,  0.95499109,  0.95499109,  0.95989305,  0.95499109,\n",
      "        0.95499109,  0.95499109,  0.95989305,  0.95499109,  0.95499109,\n",
      "        0.95499109]), 'std_train_score': array([ 0.01449962,  0.0123872 ,  0.0123872 ,  0.0123872 ,  0.01449962,\n",
      "        0.0123872 ,  0.0123872 ,  0.0123872 ,  0.01449962,  0.0123872 ,\n",
      "        0.0123872 ,  0.0123872 ,  0.01449962,  0.0123872 ,  0.0123872 ,\n",
      "        0.0123872 ]), 'mean_fit_time': array([ 0.00066884,  0.00100207,  0.00534789,  0.04218157,  0.00066479,\n",
      "        0.0080111 ,  0.00601761,  0.00367626,  0.00033633,  0.00620103,\n",
      "        0.00434295,  0.00234246,  0.00066741,  0.00534542,  0.00434502,\n",
      "        0.00200542]), 'std_fit_time': array([  4.72944197e-04,   7.78671819e-07,   1.89110100e-03,\n",
      "         4.93476515e-02,   4.70093177e-04,   8.18801488e-04,\n",
      "         8.07733254e-04,   9.44541400e-04,   4.75641234e-04,\n",
      "         9.47561962e-04,   4.74298288e-04,   4.73229229e-04,\n",
      "         4.71936327e-04,   4.74184979e-04,   4.73337297e-04,\n",
      "         4.05233662e-07]), 'mean_score_time': array([ 0.        ,  0.00067083,  0.00066876,  0.00084654,  0.00033426,\n",
      "        0.        ,  0.00032433,  0.00032226,  0.        ,  0.00034682,\n",
      "        0.0003345 ,  0.        ,  0.        ,  0.00066638,  0.        ,  0.        ]), 'std_score_time': array([ 0.        ,  0.00047474,  0.00047289,  0.00024388,  0.00047272,\n",
      "        0.        ,  0.00045867,  0.00045575,  0.        ,  0.00049048,\n",
      "        0.00047306,  0.        ,  0.        ,  0.00047121,  0.        ,  0.        ]), 'param_max_iter': masked_array(data = [100 100 100 100 1000 1000 1000 1000 10000 10000 10000 10000 100000 100000\n",
      " 100000 100000],\n",
      "             mask = [False False False False False False False False False False False False\n",
      " False False False False],\n",
      "       fill_value = ?)\n",
      ", 'param_solver': masked_array(data = ['liblinear' 'sag' 'newton-cg' 'lbfgs' 'liblinear' 'sag' 'newton-cg'\n",
      " 'lbfgs' 'liblinear' 'sag' 'newton-cg' 'lbfgs' 'liblinear' 'sag'\n",
      " 'newton-cg' 'lbfgs'],\n",
      "             mask = [False False False False False False False False False False False False\n",
      " False False False False],\n",
      "       fill_value = ?)\n",
      ", 'params': ({'max_iter': 100, 'solver': 'liblinear'}, {'max_iter': 100, 'solver': 'sag'}, {'max_iter': 100, 'solver': 'newton-cg'}, {'max_iter': 100, 'solver': 'lbfgs'}, {'max_iter': 1000, 'solver': 'liblinear'}, {'max_iter': 1000, 'solver': 'sag'}, {'max_iter': 1000, 'solver': 'newton-cg'}, {'max_iter': 1000, 'solver': 'lbfgs'}, {'max_iter': 10000, 'solver': 'liblinear'}, {'max_iter': 10000, 'solver': 'sag'}, {'max_iter': 10000, 'solver': 'newton-cg'}, {'max_iter': 10000, 'solver': 'lbfgs'}, {'max_iter': 100000, 'solver': 'liblinear'}, {'max_iter': 100000, 'solver': 'sag'}, {'max_iter': 100000, 'solver': 'newton-cg'}, {'max_iter': 100000, 'solver': 'lbfgs'})}\n"
     ]
    }
   ],
   "source": [
    "print(grid_searched_clf.best_estimator_)\n",
    "print(grid_searched_clf.best_params_)\n",
    "print(grid_searched_clf.best_score_)\n",
    "print(grid_searched_clf.cv_results_)"
   ]
  },
  {
   "cell_type": "code",
   "execution_count": 34,
   "metadata": {},
   "outputs": [
    {
     "name": "stdout",
     "output_type": "stream",
     "text": [
      "0.959558823529\n"
     ]
    },
    {
     "name": "stderr",
     "output_type": "stream",
     "text": [
      "c:\\users\\huashaojie\\python36\\lib\\site-packages\\sklearn\\linear_model\\sag.py:286: ConvergenceWarning: The max_iter was reached which means the coef_ did not converge\n",
      "  \"the coef_ did not converge\", ConvergenceWarning)\n"
     ]
    }
   ],
   "source": [
    "best_clf = grid_searched_clf.best_estimator_\n",
    "best_scores = cross_val_score(best_clf,X,y,scoring = 'accuracy')\n",
    "print(np.mean(best_scores))"
   ]
  },
  {
   "cell_type": "code",
   "execution_count": 53,
   "metadata": {},
   "outputs": [
    {
     "data": {
      "image/png": "[encoded data removed]",
      "text/plain": [
       "<matplotlib.figure.Figure at 0x2b140b675f8>"
      ]
     },
     "metadata": {},
     "output_type": "display_data"
    }
   ],
   "source": [
    "#结果可视化\n",
    "%matplotlib inline\n",
    "import matplotlib.pyplot as plt\n",
    "plt.figure()\n",
    "for label,color,marker in zip([0,1],'by',['^','s']):\n",
    "    index = np.where(y == label)\n",
    "    plt.scatter(X[index,0],X[index,1],c = color,marker = marker)\n",
    "coef = best_clf.coef_[0]\n",
    "intercept = best_clf.intercept_\n",
    "xmin,xmax = plt.xlim()\n",
    "ymin = (-xmin*coef[0]-intercept)/coef[1]\n",
    "ymax = (-xmax*coef[0]-intercept)/coef[1]\n",
    "plt.plot([xmin,xmax],[ymin,ymax])\n",
    "plt.title('The decision surface of points')\n",
    "plt.show()"
   ]
  },
  {
   "cell_type": "code",
   "execution_count": null,
   "metadata": {
    "collapsed": true
   },
   "outputs": [],
   "source": []
  }
 ],
 "metadata": {
  "kernelspec": {
   "display_name": "Python 3",
   "language": "python",
   "name": "python3"
  },
  "language_info": {
   "codemirror_mode": {
    "name": "ipython",
    "version": 3
   },
   "file_extension": ".py",
   "mimetype": "text/x-python",
   "name": "python",
   "nbconvert_exporter": "python",
   "pygments_lexer": "ipython3",
   "version": "3.6.1"
  }
 },
 "nbformat": 4,
 "nbformat_minor": 2
}
