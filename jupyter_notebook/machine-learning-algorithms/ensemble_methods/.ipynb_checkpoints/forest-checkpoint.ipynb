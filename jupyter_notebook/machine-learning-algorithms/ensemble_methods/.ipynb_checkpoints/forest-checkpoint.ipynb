{
 "cells": [
  {
   "cell_type": "code",
   "execution_count": 8,
   "metadata": {},
   "outputs": [
    {
     "name": "stdout",
     "output_type": "stream",
     "text": [
      "0.97991087344 0.999503862151 0.999898989899\n"
     ]
    }
   ],
   "source": [
    "from sklearn.datasets import make_blobs\n",
    "X,y = make_blobs(n_samples = 10000,n_features = 10,centers = 100,random_state = 0)\n",
    "from sklearn.tree import DecisionTreeClassifier\n",
    "from sklearn.ensemble import RandomForestClassifier\n",
    "from sklearn.ensemble import ExtraTreesClassifier\n",
    "clf_tree = DecisionTreeClassifier()\n",
    "clf_random = RandomForestClassifier()\n",
    "clf_extra = ExtraTreesClassifier()\n",
    "from sklearn.model_selection import cross_val_score\n",
    "scores_tree = cross_val_score(clf_tree,X,y,scoring = 'accuracy')\n",
    "scores_random = cross_val_score(clf_random,X,y,scoring = 'accuracy')\n",
    "scores_extra = cross_val_score(clf_extra,X,y,scoring = 'accuracy')\n",
    "import numpy as np\n",
    "print(np.mean(scores_tree),np.mean(scores_random),np.mean(scores_extra))"
   ]
  },
  {
   "cell_type": "code",
   "execution_count": null,
   "metadata": {
    "collapsed": true
   },
   "outputs": [],
   "source": []
  }
 ],
 "metadata": {
  "kernelspec": {
   "display_name": "Python 3",
   "language": "python",
   "name": "python3"
  },
  "language_info": {
   "codemirror_mode": {
    "name": "ipython",
    "version": 3
   },
   "file_extension": ".py",
   "mimetype": "text/x-python",
   "name": "python",
   "nbconvert_exporter": "python",
   "pygments_lexer": "ipython3",
   "version": "3.6.1"
  }
 },
 "nbformat": 4,
 "nbformat_minor": 2
}
