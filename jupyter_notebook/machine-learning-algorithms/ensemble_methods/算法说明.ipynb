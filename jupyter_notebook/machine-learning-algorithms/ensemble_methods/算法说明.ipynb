{
 "cells": [
  {
   "cell_type": "code",
   "execution_count": 46,
   "metadata": {},
   "outputs": [
    {
     "data": {
      "text/latex": [
       "$组合方法是多个基分类器的组合。\\\\\n",
       "用于提高分类准确率。\\\\\n",
       "给定原数据集D，将其分成k个训练集，D_1,D_2,...,D_i,...,D_k。\n",
       "每个训练集用来训练一个基分类器,产生k个基分类器。\\\\\n",
       "给定待分类元组，每个基分类器产生一个分类预测投票。\\\\\n",
       "组合分类器根据投票结果进行预测。\\\\\n",
       "组合方法分为装袋(begging),提升(boosting),随机森林(random\\ \\ forest)$"
      ],
      "text/plain": [
       "<IPython.core.display.Latex object>"
      ]
     },
     "metadata": {},
     "output_type": "display_data"
    }
   ],
   "source": [
    "%%latex\n",
    "$组合方法是多个基分类器的组合。\\\\\n",
    "用于提高分类准确率。\\\\\n",
    "给定原数据集D，从中随机抽样产生k个训练集，D_1,D_2,...,D_i,...,D_k。\n",
    "每个训练集用来训练一个基分类器,产生k个基分类器。\\\\\n",
    "给定待分类元组，每个基分类器产生一个分类预测投票。\\\\\n",
    "组合分类器根据投票结果进行预测。\\\\\n",
    "组合方法分为装袋(begging),提升(boosting),随机森林(random\\ \\ forest)$"
   ]
  },
  {
   "cell_type": "code",
   "execution_count": 47,
   "metadata": {},
   "outputs": [
    {
     "data": {
      "text/latex": [
       "$装袋采用多数表决的思想，即将投票结果中得票最多的类作为预测的结果。\\\\\n",
       "也即赋予所有基分类器相同的表决权重。$"
      ],
      "text/plain": [
       "<IPython.core.display.Latex object>"
      ]
     },
     "metadata": {},
     "output_type": "display_data"
    }
   ],
   "source": [
    "%%latex\n",
    "$装袋采用多数表决的思想，即将投票结果中得票最多的类作为预测的结果。\\\\\n",
    "也即赋予所有基分类器相同的表决权重。$"
   ]
  },
  {
   "cell_type": "code",
   "execution_count": 1,
   "metadata": {},
   "outputs": [
    {
     "data": {
      "text/latex": [
       "$提升采用对元组赋予权重的思想。\\\\\n",
       "设原数据集D有m个元组，首先对原数据集D中每个X^i赋予相同权重w^i = \\frac1m,权重代表抽样抽到的概率。\\\\\n",
       "一、从D中按权重进行有放回抽样，抽取m个元组，组成训练集D_1，产生第一个基分类器clf_1。\\\\\n",
       "二、根据clf_1对D_1的分类结果对D中各个元组的权重进行调整，被错误分类的元组权重增加，反之减少。\\\\\n",
       "具体而言：设clf_1分类错误率为errorrate_1，对每个正确分类的元组，w^i:=w^i*\\frac{errorrate_1}{1-errorrate_1}\\\\\n",
       "然后对所有元组权重进行区间缩放(MinMaxScaler)，使其和为1。\\\\\n",
       "如果errorrate_1大于0.5则重新执行一步骤。\\\\\n",
       "基本思想是：元组的权重反映了对它们进行分离的困难程度，希望建立分类器时更关注这些被错误分类的元组。\\\\\n",
       "三、执行k次一、二步骤，产生k个基分类器，其组合即为组合分类器。\\\\\n",
       "四、根据每个基分类器在二步骤中的错误率errorrate赋予其权重：log\\frac{1-errorrate}{errorrate}\\\\\n",
       "即错误率越低，权重越大。\\\\\n",
       "相对于装袋，提升的准确率更高，但有过拟合的风险。$"
      ],
      "text/plain": [
       "<IPython.core.display.Latex object>"
      ]
     },
     "metadata": {},
     "output_type": "display_data"
    }
   ],
   "source": [
    "%%latex\n",
    "$提升采用对元组赋予权重的思想。\\\\\n",
    "设原数据集D有m个元组，首先对原数据集D中每个X^i赋予相同权重w^i = \\frac1m,权重代表抽样抽到的概率。\\\\\n",
    "一、从D中按权重进行有放回抽样，抽取m个元组，组成训练集D_1，产生第一个基分类器clf_1。\\\\\n",
    "二、根据clf_1对D_1的分类结果对D中各个元组的权重进行调整，被错误分类的元组权重增加，反之减少。\\\\\n",
    "具体而言：设clf_1分类错误率为errorrate_1，对每个正确分类的元组，w^i:=w^i*\\frac{errorrate_1}{1-errorrate_1}\\\\\n",
    "然后对所有元组权重进行区间缩放(MinMaxScaler)，使其和为1。\\\\\n",
    "如果errorrate_1大于0.5则重新执行一步骤。\\\\\n",
    "基本思想是：元组的权重反映了对它们进行分离的困难程度，希望建立分类器时更关注这些被错误分类的元组。\\\\\n",
    "三、执行k次一、二步骤，产生k个基分类器，其组合即为组合分类器。\\\\\n",
    "四、根据每个基分类器在二步骤中的错误率errorrate赋予其权重：log\\frac{1-errorrate}{errorrate}\\\\\n",
    "即错误率越低，权重越大。\\\\\n",
    "相对于装袋，提升的准确率更高，但有过拟合的风险。$"
   ]
  },
  {
   "cell_type": "code",
   "execution_count": 7,
   "metadata": {},
   "outputs": [
    {
     "data": {
      "text/latex": [
       "$单层决策树/决策树桩(decision\\ \\ stump)\\\\\n",
       "即只根据一个属性进行分类，只分裂一次的决策树。\\\\\n",
       "遍历所有属性，选择分类效果最好(错误率最低)的单层决策树作为最终的单层决策树。\\\\\n",
       "但是因为只考虑一个属性，所以分类效果不好，常常作为基分类器用于提升组合分类器。$"
      ],
      "text/plain": [
       "<IPython.core.display.Latex object>"
      ]
     },
     "metadata": {},
     "output_type": "display_data"
    }
   ],
   "source": [
    "%%latex\n",
    "$单层决策树/决策树桩(decision\\ \\ stump)\\\\\n",
    "即只根据一个属性进行分类，只分裂一次的决策树。\\\\\n",
    "遍历所有属性，选择分类效果最好(错误率最低)的单层决策树作为最终的单层决策树。\\\\\n",
    "但是因为只考虑一个属性，所以分类效果不好，常常作为基分类器用于提升组合分类器。$"
   ]
  },
  {
   "cell_type": "code",
   "execution_count": 49,
   "metadata": {},
   "outputs": [
    {
     "name": "stderr",
     "output_type": "stream",
     "text": [
      "c:\\users\\huashaojie\\python36\\lib\\site-packages\\sklearn\\utils\\validation.py:429: DataConversionWarning: Data with input dtype int32 was converted to float64 by the normalize function.\n",
      "  warnings.warn(msg, _DataConversionWarning)\n"
     ]
    }
   ],
   "source": [
    "#Normalizer:将每个元组的特征向量转换为单位向量(横向变换)\n",
    "#StandardScaler:使所有元组的每个特征值服从标准正态分布(纵向变换)\n",
    "#MinMaxScaler:将所有元组的每个特征值缩放到0-1之间(纵向变换)\n",
    "X = [[1,2],[3,4]]\n",
    "tran_nor = Normalizer()\n",
    "tran_std = StandardScaler()\n",
    "tran_min = MinMaxScaler()\n",
    "X_tran_nor = tran_nor.fit_transform(X)\n",
    "X_tran_std = tran_std.fit_transform(X)\n",
    "X_tran_min = tran_min.fit_transform(X)"
   ]
  },
  {
   "cell_type": "code",
   "execution_count": 4,
   "metadata": {},
   "outputs": [
    {
     "data": {
      "text/latex": [
       "$随机森林\\\\\n",
       "组合分类器中的每个基分类器都是一棵决策树\\\\\n",
       "从D中随机抽样产生k个训练集，对每个D_i，在每个节点随机选择F个属性用于划分，F远小于可用属性数。\\\\\n",
       "使用CART算法产生决策树clf_i，不剪枝。clf_i的组合即为组合分类器，以得票最多的类作为预测分类。\\\\\n",
       "这种随机输入选择的方式产生的随机森林称为Forest-RI。\\\\\n",
       "另一种随机森林是Forest-RC。不是随机选择F个属性，而是从属性中选择L个属性，产生k个系数为(-1,1)\\\\\n",
       "的随机线性组合。这种方法适用于属性较少，可以降低基分类器之间的相关性。\\\\\n",
       "随机森林准确率较高，并且更健壮(鲁棒)，泛化能力更强。对于所选属性个数F很敏感，通常令\\\\\n",
       "F = log_2m+1，m是元组个数。由于随机森林涉及的属性少，运算快，因此在大型数据集上很有效。$"
      ],
      "text/plain": [
       "<IPython.core.display.Latex object>"
      ]
     },
     "metadata": {},
     "output_type": "display_data"
    }
   ],
   "source": [
    "%%latex\n",
    "$随机森林\\\\\n",
    "组合分类器中的每个基分类器都是一棵决策树\\\\\n",
    "从D中随机抽样产生k个训练集，对每个D_i，在每个节点随机选择F个属性用于划分，F远小于可用属性数。\\\\\n",
    "使用CART算法产生决策树clf_i，不剪枝。clf_i的组合即为组合分类器，以得票最多的类作为预测分类。\\\\\n",
    "这种随机输入选择的方式产生的随机森林称为Forest-RI。\\\\\n",
    "另一种随机森林是Forest-RC。不是随机选择F个属性，而是从属性中选择L个属性，产生k个系数为(-1,1)\\\\\n",
    "的随机线性组合。这种方法适用于属性较少，可以降低基分类器之间的相关性。\\\\\n",
    "随机森林准确率较高，并且更健壮(鲁棒)，泛化能力更强。对于所选属性个数F很敏感，通常令\\\\\n",
    "F = log_2m+1，m是元组个数。由于随机森林涉及的属性少，运算快，因此在大型数据集上很有效。$"
   ]
  },
  {
   "cell_type": "code",
   "execution_count": null,
   "metadata": {
    "collapsed": true
   },
   "outputs": [],
   "source": []
  }
 ],
 "metadata": {
  "kernelspec": {
   "display_name": "Python 3",
   "language": "python",
   "name": "python3"
  },
  "language_info": {
   "codemirror_mode": {
    "name": "ipython",
    "version": 3
   },
   "file_extension": ".py",
   "mimetype": "text/x-python",
   "name": "python",
   "nbconvert_exporter": "python",
   "pygments_lexer": "ipython3",
   "version": "3.6.1"
  }
 },
 "nbformat": 4,
 "nbformat_minor": 2
}
