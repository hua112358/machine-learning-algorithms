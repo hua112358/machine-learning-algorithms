{
 "cells": [
  {
   "cell_type": "code",
   "execution_count": 12,
   "metadata": {},
   "outputs": [],
   "source": [
    "#导入数据\n",
    "from sklearn import datasets\n",
    "import numpy as np\n",
    "diabetes_dataset = datasets.load_diabetes()\n",
    "X = diabetes_dataset.data[:,np.newaxis,2]\n",
    "y = diabetes_dataset.target\n",
    "X_train = X[:-20]\n",
    "X_test = X[-20:]\n",
    "y_train = y[:-20]\n",
    "y_test = y[-20:]"
   ]
  },
  {
   "cell_type": "code",
   "execution_count": 25,
   "metadata": {},
   "outputs": [
    {
     "name": "stdout",
     "output_type": "stream",
     "text": [
      "coef: 938.237861251\n",
      "intercept: 152.918861826\n"
     ]
    },
    {
     "data": {
      "text/plain": [
       "[<matplotlib.lines.Line2D at 0x1ed4bac9f60>]"
      ]
     },
     "execution_count": 25,
     "metadata": {},
     "output_type": "execute_result"
    },
    {
     "data": {
      "image/png": "[encoded data removed]",
      "text/plain": [
       "<matplotlib.figure.Figure at 0x1ed4b5326d8>"
      ]
     },
     "metadata": {},
     "output_type": "display_data"
    }
   ],
   "source": [
    "#构建模型\n",
    "from sklearn import linear_model\n",
    "import matplotlib.pyplot as plt\n",
    "%matplotlib inline\n",
    "regr = linear_model.LinearRegression()\n",
    "regr.fit(X_train,y_train)\n",
    "coef = regr.coef_[0]\n",
    "intercept = regr.intercept_\n",
    "print('coef:',coef)\n",
    "print('intercept:',intercept)\n",
    "plt.figure()\n",
    "plt.scatter(X_test,y_test,c = 'k',s = 15,marker = 's')\n",
    "xmin,xmax = plt.xlim()\n",
    "ymin = intercept+coef*xmin\n",
    "ymax = intercept+coef*xmax\n",
    "# plt.plot([xmin,xmax],[ymin,ymax],'b--',linewidth = 3)\n",
    "plt.plot(X_test,regr.predict(X_test))"
   ]
  },
  {
   "cell_type": "code",
   "execution_count": null,
   "metadata": {
    "collapsed": true
   },
   "outputs": [],
   "source": []
  }
 ],
 "metadata": {
  "kernelspec": {
   "display_name": "Python 3",
   "language": "python",
   "name": "python3"
  },
  "language_info": {
   "codemirror_mode": {
    "name": "ipython",
    "version": 3
   },
   "file_extension": ".py",
   "mimetype": "text/x-python",
   "name": "python",
   "nbconvert_exporter": "python",
   "pygments_lexer": "ipython3",
   "version": "3.6.1"
  }
 },
 "nbformat": 4,
 "nbformat_minor": 2
}
