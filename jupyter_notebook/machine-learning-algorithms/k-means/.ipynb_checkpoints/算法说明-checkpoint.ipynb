{
 "cells": [
  {
   "cell_type": "code",
   "execution_count": 2,
   "metadata": {
    "collapsed": true
   },
   "outputs": [],
   "source": [
    "#聚类算法要求\n",
    "#一、可伸缩性\n",
    "#二、处理不同类型属性\n",
    "#三、处理噪声数据\n",
    "#四、增量更新\n",
    "#五、产生任意形状的簇\n",
    "#六、处理约束\n",
    "#七、可解释性\n",
    "#比较聚类算法\n",
    "#一、划分层次\n",
    "#二、簇是否互斥\n",
    "#三、相似性度量\n",
    "#四、聚类空间\n",
    "#基本聚类方法\n",
    "#一、划分方法：单层球形互斥簇、基于距离、适用于中小规模数据\n",
    "#二、层次方法：多层簇\n",
    "#三、基于密度方法：发现任意形状簇、过滤离群点\n",
    "#四、基于网格方法：处理速度快"
   ]
  },
  {
   "cell_type": "code",
   "execution_count": 9,
   "metadata": {},
   "outputs": [
    {
     "data": {
      "text/latex": [
       "$基于形心(簇心)的技术\\\\\n",
       "把数据集D中所有对象分到C_1,C_2,...,C_i,...,C_k\\ k个簇中\\\\\n",
       "假设函数：\\sum\\limits_{i=1}^{k}\\sum\\limits_{p\\in C_i}dist(p-c_i)^2\\\\\n",
       "其中dist(p-c_i)^2代表欧式距离，p代表簇内点，c_i代表簇中心。\\\\\n",
       "任务就是最小化假设函数。$"
      ],
      "text/plain": [
       "<IPython.core.display.Latex object>"
      ]
     },
     "metadata": {},
     "output_type": "display_data"
    }
   ],
   "source": [
    "%%latex\n",
    "$基于形心(簇心)的技术\\\\\n",
    "把数据集D中所有对象分到C_1,C_2,...,C_i,...,C_k\\ k个簇中\\\\\n",
    "假设函数：\\sum\\limits_{i=1}^{k}\\sum\\limits_{p\\in C_i}dist(p-c_i)^2\\\\\n",
    "其中dist(p-c_i)^2代表欧式距离，p代表簇内点，c_i代表簇中心。\\\\\n",
    "任务就是最小化假设函数。$"
   ]
  },
  {
   "cell_type": "code",
   "execution_count": 10,
   "metadata": {},
   "outputs": [
    {
     "data": {
      "text/latex": [
       "$优化假设函数计算消耗巨大，通常需要采用贪心算法，k-means就是一个例子。\\\\\n",
       "k-means把形心定义为簇内点的均值\\\\\n",
       "首先从D中随机选择k个对象作为最初的形心，对剩下的对象按与k个形心之间的欧式距离\\\\\n",
       "分配到最相似的簇中去。重新计算各个簇中点的均值作为新的形心，重新分配所有对象。\\\\\n",
       "重复这一步骤直到簇不再发生变换。$"
      ],
      "text/plain": [
       "<IPython.core.display.Latex object>"
      ]
     },
     "metadata": {},
     "output_type": "display_data"
    }
   ],
   "source": [
    "%%latex\n",
    "$优化假设函数计算消耗巨大，通常需要采用贪心算法，k-means就是一个例子。\\\\\n",
    "k-means把形心定义为簇内点的均值\\\\\n",
    "首先从D中随机选择k个对象作为最初的形心，对剩下的对象按与k个形心之间的欧式距离\\\\\n",
    "分配到最相似的簇中去。重新计算各个簇中点的均值作为新的形心，重新分配所有对象。\\\\\n",
    "重复这一步骤直到簇不再发生变换。$"
   ]
  },
  {
   "cell_type": "code",
   "execution_count": 11,
   "metadata": {},
   "outputs": [
    {
     "data": {
      "text/latex": [
       "$不能保证k-means收敛与全局最优解，结果依赖于初始选择的簇中心，\\\\\n",
       "为了得到更好的结果，通常选择不同的初始簇中心多次运行k-means算法。\\\\\n",
       "当包含标称属性时，可使用k-means的变种，k-modes（k-众数）\\\\\n",
       "k-means缺点：\\\\\n",
       "一、需要人为确定k\\\\\n",
       "二、不能发现非凸形状的簇\\\\\n",
       "三、对噪声和离群点敏感$"
      ],
      "text/plain": [
       "<IPython.core.display.Latex object>"
      ]
     },
     "metadata": {},
     "output_type": "display_data"
    }
   ],
   "source": [
    "%%latex\n",
    "$不能保证k-means收敛与全局最优解，结果依赖于初始选择的簇中心，\\\\\n",
    "为了得到更好的结果，通常选择不同的初始簇中心多次运行k-means算法。\\\\\n",
    "当包含标称属性时，可使用k-means的变种，k-modes（k-众数）\\\\\n",
    "k-means缺点：\\\\\n",
    "一、需要人为确定k\\\\\n",
    "二、不能发现非凸形状的簇\\\\\n",
    "三、对噪声和离群点敏感$"
   ]
  },
  {
   "cell_type": "code",
   "execution_count": null,
   "metadata": {
    "collapsed": true
   },
   "outputs": [],
   "source": []
  }
 ],
 "metadata": {
  "kernelspec": {
   "display_name": "Python 3",
   "language": "python",
   "name": "python3"
  },
  "language_info": {
   "codemirror_mode": {
    "name": "ipython",
    "version": 3
   },
   "file_extension": ".py",
   "mimetype": "text/x-python",
   "name": "python",
   "nbconvert_exporter": "python",
   "pygments_lexer": "ipython3",
   "version": "3.6.1"
  }
 },
 "nbformat": 4,
 "nbformat_minor": 2
}
