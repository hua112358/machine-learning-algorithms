{
 "cells": [
  {
   "cell_type": "code",
   "execution_count": 8,
   "metadata": {},
   "outputs": [
    {
     "data": {
      "text/latex": [
       "$主成分：对不同元组进行区分的主要属性\\\\\n",
       "pca思想：通过正交变换将数据从n维映射到m维上，m远小于n，m维是重新构造出的正交特征\\\\\n",
       "pca步骤：\\\\\n",
       "一、数据预处理：特征缩放和标准化\\\\\n",
       "二、求特征协方差矩阵：C_{n*n}\\\\\n",
       "三、求协方差矩阵的特征值\\lambda_i(i=1,2,...,n)和特征向量\\mu_i(i=1,2,...,n)\\\\\n",
       "四、选择k个最大的特征值，用其对应的特征向量组成特征向量矩阵[\\mu_1,...,\\mu_k]。\\\\\n",
       "五、将原n维空间元组X_i映射到m维空间：X_i*[\\mu_1,...,\\mu_k]\\\\\n",
       "注：X_i为行向量，\\mu_i为列向量。$"
      ],
      "text/plain": [
       "<IPython.core.display.Latex object>"
      ]
     },
     "metadata": {},
     "output_type": "display_data"
    }
   ],
   "source": [
    "%%latex\n",
    "$主成分：对不同元组进行区分的主要属性\\\\\n",
    "pca思想：通过正交变换将数据从n维映射到m维上，m远小于n，m维是重新构造出的正交特征\\\\\n",
    "pca步骤：\\\\\n",
    "一、数据预处理：特征缩放和标准化\\\\\n",
    "二、求特征协方差矩阵：C_{n*n}\\\\\n",
    "三、求协方差矩阵的特征值\\lambda_i(i=1,2,...,n)和特征向量\\mu_i(i=1,2,...,n)\\\\\n",
    "四、选择k个最大的特征值，用其对应的特征向量组成特征向量矩阵[\\mu_1,...,\\mu_k]。\\\\\n",
    "五、将原n维空间元组X_i映射到m维空间：X_i*[\\mu_1,...,\\mu_k]\\\\\n",
    "注：X_i为行向量，\\mu_i为列向量。$"
   ]
  },
  {
   "cell_type": "code",
   "execution_count": 19,
   "metadata": {},
   "outputs": [],
   "source": [
    "X = [[1,3,4,5],\n",
    "    [5,2,7,8],\n",
    "    [2,3,4,5]]\n",
    "import numpy as np\n",
    "X = np.mat(X)"
   ]
  },
  {
   "cell_type": "code",
   "execution_count": 23,
   "metadata": {},
   "outputs": [
    {
     "data": {
      "text/plain": [
       "matrix([[1, 3, 4, 5],\n",
       "        [5, 2, 7, 8],\n",
       "        [2, 3, 4, 5]])"
      ]
     },
     "execution_count": 23,
     "metadata": {},
     "output_type": "execute_result"
    }
   ],
   "source": [
    "X"
   ]
  },
  {
   "cell_type": "code",
   "execution_count": 25,
   "metadata": {},
   "outputs": [
    {
     "data": {
      "text/plain": [
       "array([[ 4.33333333, -1.16666667,  3.5       ,  3.5       ],\n",
       "       [-1.16666667,  0.33333333, -1.        , -1.        ],\n",
       "       [ 3.5       , -1.        ,  3.        ,  3.        ],\n",
       "       [ 3.5       , -1.        ,  3.        ,  3.        ]])"
      ]
     },
     "execution_count": 25,
     "metadata": {},
     "output_type": "execute_result"
    }
   ],
   "source": [
    "np.cov(X.T)"
   ]
  },
  {
   "cell_type": "code",
   "execution_count": null,
   "metadata": {
    "collapsed": true
   },
   "outputs": [],
   "source": [
    "#由于协方差矩阵是将元组视为列向量计算得到的，因此要将元组为行向量的数据集转置后才能\n",
    "#调用numpy的cov方法，生成n*n的协方差矩阵，其中n是特征数，协方差矩阵代表了不同\n",
    "#特征之间的相关性，协方差越大相关性越大。"
   ]
  }
 ],
 "metadata": {
  "kernelspec": {
   "display_name": "Python 3",
   "language": "python",
   "name": "python3"
  },
  "language_info": {
   "codemirror_mode": {
    "name": "ipython",
    "version": 3
   },
   "file_extension": ".py",
   "mimetype": "text/x-python",
   "name": "python",
   "nbconvert_exporter": "python",
   "pygments_lexer": "ipython3",
   "version": "3.6.1"
  }
 },
 "nbformat": 4,
 "nbformat_minor": 2
}
