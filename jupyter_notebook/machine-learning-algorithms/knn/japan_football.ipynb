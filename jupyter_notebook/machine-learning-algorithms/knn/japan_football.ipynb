{
 "cells": [
  {
   "cell_type": "code",
   "execution_count": 1,
   "metadata": {
    "collapsed": true
   },
   "outputs": [],
   "source": [
    "#导入数据\n",
    "import numpy as np\n",
    "dataset = np.loadtxt('japan_football.txt')\n",
    "X = dataset[:,0:3]\n",
    "y = dataset[:,3]"
   ]
  },
  {
   "cell_type": "code",
   "execution_count": 2,
   "metadata": {
    "collapsed": true
   },
   "outputs": [],
   "source": [
    "#预处理\n",
    "from sklearn.preprocessing import MinMaxScaler\n",
    "transformer = MinMaxScaler()\n",
    "X_transformed = transformer.fit_transform(X)"
   ]
  },
  {
   "cell_type": "code",
   "execution_count": 7,
   "metadata": {},
   "outputs": [
    {
     "name": "stdout",
     "output_type": "stream",
     "text": [
      "the average score is 37.0%\n",
      "the average score of transformed is 38.4%\n"
     ]
    }
   ],
   "source": [
    "from sklearn.neighbors import KNeighborsClassifier\n",
    "from sklearn.model_selection import cross_val_score\n",
    "clf_knn = KNeighborsClassifier()\n",
    "scores = cross_val_score(clf_knn,X,y,scoring = 'accuracy')\n",
    "print('the average score is {0:.1f}%'.format(np.mean(scores)*100))\n",
    "scores_transformed = cross_val_score(clf_knn,X_transformed,y,scoring ='accuracy')\n",
    "print('the average score of transformed is {0:.1f}%'.format(np.mean(scores_transformed)*100))"
   ]
  },
  {
   "cell_type": "code",
   "execution_count": 8,
   "metadata": {},
   "outputs": [
    {
     "name": "stdout",
     "output_type": "stream",
     "text": [
      "the average score is 46.4%\n",
      "the average score of transformed is 47.1%\n"
     ]
    }
   ],
   "source": [
    "from sklearn.linear_model import LogisticRegression\n",
    "clf_logistic = LogisticRegression()\n",
    "scores = cross_val_score(clf_logistic,X,y,scoring = 'accuracy')\n",
    "print('the average score is {0:.1f}%'.format(np.mean(scores)*100))\n",
    "scores_transformed = cross_val_score(clf_logistic,X_transformed,y,scoring ='accuracy')\n",
    "print('the average score of transformed is {0:.1f}%'.format(np.mean(scores_transformed)*100))"
   ]
  },
  {
   "cell_type": "code",
   "execution_count": 9,
   "metadata": {},
   "outputs": [
    {
     "name": "stdout",
     "output_type": "stream",
     "text": [
      "the average score is 43.3%\n",
      "the average score of transformed is 43.3%\n"
     ]
    }
   ],
   "source": [
    "from sklearn.naive_bayes import GaussianNB\n",
    "clf_bayes = GaussianNB()\n",
    "scores = cross_val_score(clf_bayes,X,y,scoring = 'accuracy')\n",
    "print('the average score is {0:.1f}%'.format(np.mean(scores)*100))\n",
    "scores_transformed = cross_val_score(clf_bayes,X_transformed,y,scoring ='accuracy')\n",
    "print('the average score of transformed is {0:.1f}%'.format(np.mean(scores_transformed)*100))"
   ]
  },
  {
   "cell_type": "code",
   "execution_count": 10,
   "metadata": {},
   "outputs": [
    {
     "name": "stdout",
     "output_type": "stream",
     "text": [
      "the average score is 46.1%\n",
      "the average score of transformed is 46.0%\n"
     ]
    }
   ],
   "source": [
    "from sklearn.svm import SVC\n",
    "clf_svm = SVC()\n",
    "scores = cross_val_score(clf_svm,X,y,scoring = 'accuracy')\n",
    "print('the average score is {0:.1f}%'.format(np.mean(scores)*100))\n",
    "scores_transformed = cross_val_score(clf_svm,X_transformed,y,scoring ='accuracy')\n",
    "print('the average score of transformed is {0:.1f}%'.format(np.mean(scores_transformed)*100))"
   ]
  },
  {
   "cell_type": "code",
   "execution_count": 11,
   "metadata": {
    "collapsed": true
   },
   "outputs": [],
   "source": [
    "X1 = dataset[:,0]\n",
    "X2 = dataset[:,1]\n",
    "X3 = dataset[:,2]\n",
    "X12 = dataset[:,0:2]\n",
    "X13 = dataset[:,(0,2)]\n",
    "X23 = dataset[:,1:]"
   ]
  },
  {
   "cell_type": "code",
   "execution_count": 22,
   "metadata": {},
   "outputs": [
    {
     "name": "stdout",
     "output_type": "stream",
     "text": [
      "the average score is 46.4%\n",
      "the average score is 46.4%\n"
     ]
    }
   ],
   "source": [
    "from sklearn.linear_model import LogisticRegression\n",
    "from sklearn.model_selection import cross_val_score\n",
    "clf_logistic = LogisticRegression()\n",
    "scores = cross_val_score(clf_logistic,X,y,scoring = 'accuracy')\n",
    "print('the average score is {0:.1f}%'.format(np.mean(scores)*100))\n",
    "scores_12 = cross_val_score(clf_logistic,X12,y,scoring = 'accuracy')\n",
    "print('the average score is {0:.1f}%'.format(np.mean(scores)*100))"
   ]
  },
  {
   "cell_type": "code",
   "execution_count": 23,
   "metadata": {},
   "outputs": [
    {
     "name": "stdout",
     "output_type": "stream",
     "text": [
      "the average score is 46.1%\n",
      "the average score of transformed is 46.0%\n"
     ]
    }
   ],
   "source": [
    "from sklearn.svm import SVC\n",
    "clf_svm = SVC()\n",
    "scores = cross_val_score(clf_svm,X,y,scoring = 'accuracy')\n",
    "print('the average score is {0:.1f}%'.format(np.mean(scores)*100))\n",
    "scores_12 = cross_val_score(clf_svm,X12,y,scoring ='accuracy')\n",
    "print('the average score of transformed is {0:.1f}%'.format(np.mean(scores_transformed)*100))"
   ]
  },
  {
   "cell_type": "code",
   "execution_count": 24,
   "metadata": {},
   "outputs": [
    {
     "name": "stdout",
     "output_type": "stream",
     "text": [
      "the average score is 46.4%\n",
      "the average score is 46.4%\n"
     ]
    }
   ],
   "source": [
    "from sklearn.linear_model import LogisticRegression\n",
    "from sklearn.model_selection import cross_val_score\n",
    "clf_logistic = LogisticRegression()\n",
    "scores = cross_val_score(clf_logistic,X,y,scoring = 'accuracy')\n",
    "print('the average score is {0:.1f}%'.format(np.mean(scores)*100))\n",
    "scores_13 = cross_val_score(clf_logistic,X13,y,scoring = 'accuracy')\n",
    "print('the average score is {0:.1f}%'.format(np.mean(scores)*100))"
   ]
  },
  {
   "cell_type": "code",
   "execution_count": 25,
   "metadata": {},
   "outputs": [
    {
     "name": "stdout",
     "output_type": "stream",
     "text": [
      "the average score is 46.1%\n",
      "the average score of transformed is 46.0%\n"
     ]
    }
   ],
   "source": [
    "from sklearn.svm import SVC\n",
    "clf_svm = SVC()\n",
    "scores = cross_val_score(clf_svm,X,y,scoring = 'accuracy')\n",
    "print('the average score is {0:.1f}%'.format(np.mean(scores)*100))\n",
    "scores_13 = cross_val_score(clf_svm,X13,y,scoring ='accuracy')\n",
    "print('the average score of transformed is {0:.1f}%'.format(np.mean(scores_transformed)*100))"
   ]
  },
  {
   "cell_type": "code",
   "execution_count": 26,
   "metadata": {},
   "outputs": [
    {
     "name": "stdout",
     "output_type": "stream",
     "text": [
      "the average score is 46.4%\n",
      "the average score is 46.4%\n"
     ]
    }
   ],
   "source": [
    "from sklearn.linear_model import LogisticRegression\n",
    "from sklearn.model_selection import cross_val_score\n",
    "clf_logistic = LogisticRegression()\n",
    "scores = cross_val_score(clf_logistic,X,y,scoring = 'accuracy')\n",
    "print('the average score is {0:.1f}%'.format(np.mean(scores)*100))\n",
    "scores_23 = cross_val_score(clf_logistic,X23,y,scoring = 'accuracy')\n",
    "print('the average score is {0:.1f}%'.format(np.mean(scores)*100))"
   ]
  },
  {
   "cell_type": "code",
   "execution_count": 27,
   "metadata": {},
   "outputs": [
    {
     "name": "stdout",
     "output_type": "stream",
     "text": [
      "the average score is 46.1%\n",
      "the average score of transformed is 46.0%\n"
     ]
    }
   ],
   "source": [
    "from sklearn.svm import SVC\n",
    "clf_svm = SVC()\n",
    "scores = cross_val_score(clf_svm,X,y,scoring = 'accuracy')\n",
    "print('the average score is {0:.1f}%'.format(np.mean(scores)*100))\n",
    "scores_23 = cross_val_score(clf_svm,X23,y,scoring ='accuracy')\n",
    "print('the average score of transformed is {0:.1f}%'.format(np.mean(scores_transformed)*100))"
   ]
  },
  {
   "cell_type": "code",
   "execution_count": null,
   "metadata": {
    "collapsed": true
   },
   "outputs": [],
   "source": []
  }
 ],
 "metadata": {
  "kernelspec": {
   "display_name": "Python 3",
   "language": "python",
   "name": "python3"
  },
  "language_info": {
   "codemirror_mode": {
    "name": "ipython",
    "version": 3
   },
   "file_extension": ".py",
   "mimetype": "text/x-python",
   "name": "python",
   "nbconvert_exporter": "python",
   "pygments_lexer": "ipython3",
   "version": "3.6.1"
  }
 },
 "nbformat": 4,
 "nbformat_minor": 2
}
