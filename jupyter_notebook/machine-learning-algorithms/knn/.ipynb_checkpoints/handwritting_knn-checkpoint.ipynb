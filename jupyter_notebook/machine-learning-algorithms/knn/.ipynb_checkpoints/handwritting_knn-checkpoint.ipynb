{
 "cells": [
  {
   "cell_type": "code",
   "execution_count": 127,
   "metadata": {},
   "outputs": [],
   "source": [
    "#导入数据\n",
    "from os import listdir\n",
    "import numpy as np\n",
    "train_file_list = listdir('trainingDigits')\n",
    "train_sample_numbers = len(train_file_list)\n",
    "X_train = []\n",
    "y_train = []\n",
    "X_test = []\n",
    "y_test = []\n",
    "for i in range(train_sample_numbers):\n",
    "    filename = train_file_list[i].split('.')[0]\n",
    "    number_class = int(filename.split('_')[0])\n",
    "    y_train.append(number_class)\n",
    "    str_array = np.loadtxt('trainingDigits/%s' % train_file_list[i],dtype = str)\n",
    "    image = []\n",
    "    for line in str_array:\n",
    "        for c in line:\n",
    "            image.append(int(c))\n",
    "    image = np.array(image)\n",
    "    image.reshape((1,1024))\n",
    "    X_train.append(image)\n",
    "X_train = np.array(X_train)\n",
    "y_train = np.array(y_train)\n",
    "test_file_list = listdir('testDigits')\n",
    "test_sample_numbers = len(test_file_list)\n",
    "for i in range(test_sample_numbers):\n",
    "    filename = test_file_list[i].split('.')[0]\n",
    "    number_class = int(filename.split('_')[0])\n",
    "    y_test.append(number_class)\n",
    "    str_array = np.loadtxt('testDigits/%s' % test_file_list[i],dtype = str)\n",
    "    image = []\n",
    "    for line in str_array:\n",
    "        for c in line:\n",
    "            image.append(int(c))\n",
    "    image = np.array(image)\n",
    "    image.reshape((1,1024))\n",
    "    X_test.append(image)\n",
    "X_test = np.array(X_test)\n",
    "y_test = np.array(y_test)"
   ]
  },
  {
   "cell_type": "code",
   "execution_count": 128,
   "metadata": {},
   "outputs": [
    {
     "name": "stderr",
     "output_type": "stream",
     "text": [
      "c:\\users\\huashaojie\\python36\\lib\\site-packages\\sklearn\\utils\\validation.py:429: DataConversionWarning: Data with input dtype int32 was converted to float64 by MinMaxScaler.\n",
      "  warnings.warn(msg, _DataConversionWarning)\n"
     ]
    }
   ],
   "source": [
    "#数据预处理\n",
    "from sklearn.preprocessing import MinMaxScaler\n",
    "transformer = MinMaxScaler()\n",
    "X_train_transformed = transformer.fit_transform(X_train)\n",
    "X_test_transformed = transformer.fit_transform(X_test)"
   ]
  },
  {
   "cell_type": "code",
   "execution_count": 129,
   "metadata": {},
   "outputs": [
    {
     "name": "stdout",
     "output_type": "stream",
     "text": [
      "the average score is 94.7%\n"
     ]
    }
   ],
   "source": [
    "#构建、评估分类器\n",
    "from sklearn.neighbors import KNeighborsClassifier\n",
    "from sklearn.cross_validation import cross_val_score\n",
    "clf = KNeighborsClassifier()\n",
    "scores = cross_val_score(clf,X_train_transformed,y_train,scoring = 'accuracy')\n",
    "print('the average score is {0:.1f}%'.format(np.mean(scores)*100))"
   ]
  },
  {
   "cell_type": "code",
   "execution_count": 130,
   "metadata": {},
   "outputs": [
    {
     "name": "stdout",
     "output_type": "stream",
     "text": [
      "0.980972515856\n"
     ]
    }
   ],
   "source": [
    "#用分类器进行预测\n",
    "clf.fit(X_train_transformed,y_train)\n",
    "y_predicted = clf.predict(X_test_transformed)\n",
    "print(np.mean(y_test == y_predicted))"
   ]
  },
  {
   "cell_type": "code",
   "execution_count": null,
   "metadata": {
    "collapsed": true
   },
   "outputs": [],
   "source": []
  }
 ],
 "metadata": {
  "kernelspec": {
   "display_name": "Python 3",
   "language": "python",
   "name": "python3"
  },
  "language_info": {
   "codemirror_mode": {
    "name": "ipython",
    "version": 3
   },
   "file_extension": ".py",
   "mimetype": "text/x-python",
   "name": "python",
   "nbconvert_exporter": "python",
   "pygments_lexer": "ipython3",
   "version": "3.6.1"
  }
 },
 "nbformat": 4,
 "nbformat_minor": 2
}
