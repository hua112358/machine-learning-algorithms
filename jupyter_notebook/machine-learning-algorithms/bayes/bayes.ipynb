{
 "cells": [
  {
   "cell_type": "code",
   "execution_count": 1,
   "metadata": {
    "collapsed": true
   },
   "outputs": [],
   "source": [
    "#导入数据\n",
    "from sklearn import datasets\n",
    "iris_dataset = datasets.load_iris()\n",
    "X = iris_dataset.data\n",
    "y = iris_dataset.target"
   ]
  },
  {
   "cell_type": "code",
   "execution_count": 2,
   "metadata": {},
   "outputs": [
    {
     "name": "stdout",
     "output_type": "stream",
     "text": [
      "the average scores is 93.4%\n"
     ]
    }
   ],
   "source": [
    "#构建、评估模型\n",
    "from sklearn.naive_bayes import GaussianNB\n",
    "gaussiannb_clf = GaussianNB()\n",
    "from sklearn.model_selection import cross_val_score\n",
    "scores = cross_val_score(gaussiannb_clf,X,y,scoring = 'accuracy')\n",
    "import numpy as np\n",
    "print('the average scores is {0:.1f}%'.format(np.mean(scores)*100))"
   ]
  },
  {
   "cell_type": "code",
   "execution_count": 3,
   "metadata": {},
   "outputs": [
    {
     "name": "stdout",
     "output_type": "stream",
     "text": [
      "the average scores is 96.1%\n"
     ]
    }
   ],
   "source": [
    "from sklearn.naive_bayes import MultinomialNB\n",
    "multinomialnb_clf = MultinomialNB()\n",
    "scores = cross_val_score(multinomialnb_clf,X,y,scoring = 'accuracy')\n",
    "print('the average scores is {0:.1f}%'.format(np.mean(scores)*100))"
   ]
  },
  {
   "cell_type": "code",
   "execution_count": 4,
   "metadata": {},
   "outputs": [
    {
     "name": "stdout",
     "output_type": "stream",
     "text": [
      "the average scores is 33.3%\n"
     ]
    }
   ],
   "source": [
    "from sklearn.naive_bayes import BernoulliNB\n",
    "bernoullinb_clf = BernoulliNB()\n",
    "scores = cross_val_score(bernoullinb_clf,X,y,scoring = 'accuracy')\n",
    "print('the average scores is {0:.1f}%'.format(np.mean(scores)*100))"
   ]
  },
  {
   "cell_type": "code",
   "execution_count": null,
   "metadata": {
    "collapsed": true
   },
   "outputs": [],
   "source": []
  }
 ],
 "metadata": {
  "kernelspec": {
   "display_name": "Python 3",
   "language": "python",
   "name": "python3"
  },
  "language_info": {
   "codemirror_mode": {
    "name": "ipython",
    "version": 3
   },
   "file_extension": ".py",
   "mimetype": "text/x-python",
   "name": "python",
   "nbconvert_exporter": "python",
   "pygments_lexer": "ipython3",
   "version": "3.6.1"
  }
 },
 "nbformat": 4,
 "nbformat_minor": 2
}
