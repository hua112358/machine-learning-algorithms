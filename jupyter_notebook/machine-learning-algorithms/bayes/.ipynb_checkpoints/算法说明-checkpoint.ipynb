{
 "cells": [
  {
   "cell_type": "code",
   "execution_count": 3,
   "metadata": {
    "scrolled": true
   },
   "outputs": [
    {
     "data": {
      "text/latex": [
       "$贝叶斯定理\\\\P(H|X) = \\frac{P(X|H)P(H)}{P(X)} $"
      ],
      "text/plain": [
       "<IPython.core.display.Latex object>"
      ]
     },
     "metadata": {},
     "output_type": "display_data"
    }
   ],
   "source": [
    "%%latex\n",
    "$贝叶斯定理\\\\P(H|X) = \\frac{P(X|H)P(H)}{P(X)} $"
   ]
  },
  {
   "cell_type": "code",
   "execution_count": 26,
   "metadata": {
    "scrolled": true
   },
   "outputs": [
    {
     "data": {
      "text/latex": [
       "$朴素贝叶斯\\\\P(C_i|X) = \\frac{P(X|C_i)P(C_i)}{P(X)}\\\\最大化P(C_i|X)，由于P(X)对所有类为常数，即最大化P(X|C_i)P(C_i)\\\\\n",
       "P(C_i)为先验概率，如果未知则假定各类等概率。为了降低计算量，假设各属性条件独立：\\\\P(X|C_i) = \\prod\\limits_{k=1}^n\n",
       "P(x_k|C_i)\\\\如果属性为连续值属性，则假定其服从高斯分布：\\\\g(x,\\mu,\\sigma)= \\frac{1}{\\sqrt{2\\pi\\sigma}}e^{-\\frac{(x-\\mu)^2}\n",
       "{2\\sigma^2}}\\\\P(x_k|C_i) = g(x_k,\\mu_{C_i,k},\\sigma_{C_i,k})\\\\其中，\\mu_{C_i,k}和\\sigma_{C_i,k}分别是C_i类中\n",
       "属性k的均值和标准差$"
      ],
      "text/plain": [
       "<IPython.core.display.Latex object>"
      ]
     },
     "metadata": {},
     "output_type": "display_data"
    }
   ],
   "source": [
    "%%latex\n",
    "$朴素贝叶斯\\\\P(C_i|X) = \\frac{P(X|C_i)P(C_i)}{P(X)}\\\\最大化P(C_i|X)，由于P(X)对所有类为常数，即最大化P(X|C_i)P(C_i)\\\\\n",
    "P(C_i)为先验概率，如果未知则假定各类等概率。为了降低计算量，假设各属性条件独立：\\\\P(X|C_i) = \\prod\\limits_{k=1}^n\n",
    "P(x_k|C_i)\\\\如果属性为连续值属性，则假定其服从高斯分布：\\\\g(x,\\mu,\\sigma)= \\frac{1}{\\sqrt{2\\pi\\sigma}}e^{-\\frac{(x-\\mu)^2}\n",
    "{2\\sigma^2}}\\\\P(x_k|C_i) = g(x_k,\\mu_{C_i,k},\\sigma_{C_i,k})\\\\其中，\\mu_{C_i,k}和\\sigma_{C_i,k}分别是C_i类中\n",
    "属性k的均值和标准差$"
   ]
  },
  {
   "cell_type": "code",
   "execution_count": 33,
   "metadata": {},
   "outputs": [
    {
     "data": {
      "text/latex": [
       "$使用拉普拉斯校准避免零概率值\\\\ 假设数据集很大，对每个属性-值对都加一个元组\\\\例如，在buy = yes这一类中有1000个\n",
       "元组，属性income有三种值，0个low，990个medium，10个high\\\\原条件概率分别为\\frac{0}{1000},\\frac{990}{1000},\n",
       "\\frac{10}{1000}\\\\经过拉普拉斯校准之后，条件概率分别为\\frac{1}{1000},\\frac{991}{1000},\\frac{11}{1000}\\\\\n",
       "注：当α＜1称为Lidstone平滑$"
      ],
      "text/plain": [
       "<IPython.core.display.Latex object>"
      ]
     },
     "metadata": {},
     "output_type": "display_data"
    }
   ],
   "source": [
    "%%latex\n",
    "$使用拉普拉斯校准避免零概率值\\\\ 假设数据集很大，对每个属性-值对都加一个元组\\\\例如，在buy = yes这一类中有1000个\n",
    "元组，属性income有三种值，0个low，990个medium，10个high\\\\原条件概率分别为\\frac{0}{1000},\\frac{990}{1000},\n",
    "\\frac{10}{1000}\\\\经过拉普拉斯校准之后，条件概率分别为\\frac{1}{1000},\\frac{991}{1000},\\frac{11}{1000}\\\\\n",
    "注：当α＜1称为Lidstone平滑$"
   ]
  },
  {
   "cell_type": "code",
   "execution_count": 32,
   "metadata": {
    "collapsed": true
   },
   "outputs": [],
   "source": [
    "#朴素贝叶斯分类有三种：高斯朴素贝叶斯、多项式朴素贝叶斯、伯努利朴素贝叶斯\n",
    "#高斯朴素贝叶斯：适用于属性为连续值的数据，假定属性服从高斯分布\n",
    "#伯努利朴素贝叶斯：适用于属性为离散、定类的数据，将属性值是否出现作为特征计算条件概率\n",
    "#伯努利朴素贝叶斯：适用于属性为离散、定类的数据，将属性值出现的次数作为特征计算条件概率"
   ]
  },
  {
   "cell_type": "code",
   "execution_count": null,
   "metadata": {
    "collapsed": true
   },
   "outputs": [],
   "source": []
  }
 ],
 "metadata": {
  "kernelspec": {
   "display_name": "Python 3",
   "language": "python",
   "name": "python3"
  },
  "language_info": {
   "codemirror_mode": {
    "name": "ipython",
    "version": 3
   },
   "file_extension": ".py",
   "mimetype": "text/x-python",
   "name": "python",
   "nbconvert_exporter": "python",
   "pygments_lexer": "ipython3",
   "version": "3.6.1"
  }
 },
 "nbformat": 4,
 "nbformat_minor": 2
}
