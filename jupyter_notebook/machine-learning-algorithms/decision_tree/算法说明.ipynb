{
 "cells": [
  {
   "cell_type": "code",
   "execution_count": 1,
   "metadata": {},
   "outputs": [
    {
     "data": {
      "text/latex": [
       "$一\\ 信息增益(ID3)\\\\Info(D) = -\\sum_i^mp_ilog_2(p_i)\\\\Info_A(D) = \\sum_j^v\\frac{|D_j|}{|D|} * Info(D_j)\\\\\n",
       "Gain(A) = Info(D) - Info_A(D) $"
      ],
      "text/plain": [
       "<IPython.core.display.Latex object>"
      ]
     },
     "metadata": {},
     "output_type": "display_data"
    }
   ],
   "source": [
    "%%latex\n",
    "$一\\ 信息增益(ID3)\\\\Info(D) = -\\sum_i^mp_ilog_2(p_i)\\\\Info_A(D) = \\sum_j^v\\frac{|D_j|}{|D|} * Info(D_j)\\\\\n",
    "Gain(A) = Info(D) - Info_A(D) $"
   ]
  },
  {
   "cell_type": "code",
   "execution_count": 2,
   "metadata": {},
   "outputs": [
    {
     "data": {
      "text/latex": [
       "$二\\ 增益率(C4.5)\\\\SplitInfo_A(D) = \\sum_j^v\\frac{|D_j|}{|D|}*log_2(\\frac{|D_j|}{|D|})\\\\GainRate(A) = \\frac{Gain(A)}{SplitInfo_A(D)}  $"
      ],
      "text/plain": [
       "<IPython.core.display.Latex object>"
      ]
     },
     "metadata": {},
     "output_type": "display_data"
    }
   ],
   "source": [
    "%%latex\n",
    "$二\\ 增益率(C4.5)\\\\SplitInfo_A(D) = \\sum_j^v\\frac{|D_j|}{|D|}*log_2(\\frac{|D_j|}{|D|})\\\\GainRate(A) = \\frac{Gain(A)}{SplitInfo_A(D)}  $"
   ]
  },
  {
   "cell_type": "code",
   "execution_count": 3,
   "metadata": {},
   "outputs": [
    {
     "data": {
      "text/latex": [
       "$三\\ 基尼指数(CART)\\\\Gini(D) = 1-\\sum_i^mp_i^2\\\\考虑每个属性的二元划分\\\\Gini_{income\\in\\{low,medium\\}}(D) = \n",
       "\\frac{10}{14}Gini(D_1)+\\frac{4}{14}Gini(D_2)=Gini_{income\\in\\{high\\}} $"
      ],
      "text/plain": [
       "<IPython.core.display.Latex object>"
      ]
     },
     "metadata": {},
     "output_type": "display_data"
    }
   ],
   "source": [
    "%%latex\n",
    "$三\\ 基尼指数(CART)\\\\Gini(D) = 1-\\sum_i^mp_i^2\\\\考虑每个属性的二元划分\\\\Gini_{income\\in\\{low,medium\\}}(D) = \n",
    "\\frac{10}{14}Gini(D_1)+\\frac{4}{14}Gini(D_2)=Gini_{income\\in\\{high\\}} $"
   ]
  },
  {
   "cell_type": "code",
   "execution_count": null,
   "metadata": {
    "collapsed": true
   },
   "outputs": [],
   "source": []
  }
 ],
 "metadata": {
  "kernelspec": {
   "display_name": "Python 3",
   "language": "python",
   "name": "python3"
  },
  "language_info": {
   "codemirror_mode": {
    "name": "ipython",
    "version": 3
   },
   "file_extension": ".py",
   "mimetype": "text/x-python",
   "name": "python",
   "nbconvert_exporter": "python",
   "pygments_lexer": "ipython3",
   "version": "3.6.1"
  }
 },
 "nbformat": 4,
 "nbformat_minor": 2
}
