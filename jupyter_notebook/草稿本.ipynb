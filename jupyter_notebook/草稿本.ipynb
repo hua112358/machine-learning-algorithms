{
 "cells": [
  {
   "cell_type": "code",
   "execution_count": 1,
   "metadata": {
    "collapsed": true
   },
   "outputs": [],
   "source": [
    "def amicable(n):\n",
    "    \"\"\"Return the smallest amicable number greater than positive integer n.\n",
    "\n",
    "    Every amicable number x has a buddy y different from x, such that\n",
    "    the sum of the proper divisors of x equals y, and\n",
    "    the sum of the proper divisors of y equals x.\n",
    "\n",
    "    For example, 220 and 284 are both amicable because\n",
    "    1 + 2 + 4 + 5 + 10 + 11 + 20 + 22 + 44 + 55 + 110 is 284, and\n",
    "    1 + 2 + 4 + 71 + 142 is 220\n",
    "\n",
    "    >>> amicable(5)\n",
    "    220\n",
    "    >>> amicable(220)\n",
    "    284\n",
    "    >>> amicable(284)\n",
    "    1184\n",
    "    >>> r = amicable(5000)\n",
    "    >>> r\n",
    "    5020\n",
    "\n",
    "\n",
    "    \"\"\"\n",
    "    def sum_divisors(m):\n",
    "        factor = 1\n",
    "        total = 0\n",
    "        while factor<m:\n",
    "            if m%factor==0:\n",
    "                total += factor\n",
    "            factor += 1\n",
    "        return total\n",
    "    \n",
    "    curr_number = n+1\n",
    "    while True:\n",
    "        i = 1\n",
    "        while i < curr_number:\n",
    "            curr_sum = sum_divisors(curr_number)\n",
    "            number = i\n",
    "            sum_i = sum_divisors(i)\n",
    "            if curr_sum == number and sum_i == curr_number:\n",
    "                if number>n:\n",
    "                    return number\n",
    "                else:\n",
    "                    return curr_number\n",
    "            i = i+1\n",
    "        curr_number += 1"
   ]
  },
  {
   "cell_type": "code",
   "execution_count": 2,
   "metadata": {},
   "outputs": [
    {
     "data": {
      "text/plain": [
       "220"
      ]
     },
     "execution_count": 2,
     "metadata": {},
     "output_type": "execute_result"
    }
   ],
   "source": [
    "amicable(200)"
   ]
  },
  {
   "cell_type": "code",
   "execution_count": 3,
   "metadata": {},
   "outputs": [
    {
     "data": {
      "text/plain": [
       "284"
      ]
     },
     "execution_count": 3,
     "metadata": {},
     "output_type": "execute_result"
    }
   ],
   "source": [
    "amicable(220)"
   ]
  },
  {
   "cell_type": "code",
   "execution_count": null,
   "metadata": {
    "collapsed": true
   },
   "outputs": [],
   "source": [
    "amicable(284)"
   ]
  },
  {
   "cell_type": "code",
   "execution_count": 1,
   "metadata": {
    "collapsed": true
   },
   "outputs": [],
   "source": [
    "def sum_divisors(n):\n",
    "    total , d = 0, 1\n",
    "    while d<n:\n",
    "        if n%d ==0:\n",
    "            total = total + d\n",
    "        d = d+1\n",
    "    return total\n",
    "\n",
    "def amicable(n):\n",
    "    n= n+1\n",
    "    while True:\n",
    "        m = sum_divisors(n)\n",
    "        if m !=n and sum_divisors(m)==n:\n",
    "            return n\n",
    "        n = n+1"
   ]
  },
  {
   "cell_type": "code",
   "execution_count": 2,
   "metadata": {},
   "outputs": [
    {
     "data": {
      "text/plain": [
       "220"
      ]
     },
     "execution_count": 2,
     "metadata": {},
     "output_type": "execute_result"
    }
   ],
   "source": [
    "amicable(200)"
   ]
  },
  {
   "cell_type": "code",
   "execution_count": 3,
   "metadata": {},
   "outputs": [
    {
     "data": {
      "text/plain": [
       "284"
      ]
     },
     "execution_count": 3,
     "metadata": {},
     "output_type": "execute_result"
    }
   ],
   "source": [
    "amicable(220)"
   ]
  },
  {
   "cell_type": "code",
   "execution_count": 4,
   "metadata": {},
   "outputs": [
    {
     "data": {
      "text/plain": [
       "1184"
      ]
     },
     "execution_count": 4,
     "metadata": {},
     "output_type": "execute_result"
    }
   ],
   "source": [
    "amicable(284)"
   ]
  },
  {
   "cell_type": "code",
   "execution_count": 5,
   "metadata": {},
   "outputs": [
    {
     "data": {
      "text/plain": [
       "1210"
      ]
     },
     "execution_count": 5,
     "metadata": {},
     "output_type": "execute_result"
    }
   ],
   "source": [
    "amicable(1184)"
   ]
  },
  {
   "cell_type": "code",
   "execution_count": 10,
   "metadata": {
    "collapsed": true
   },
   "outputs": [],
   "source": [
    "def sum_divisors(n):\n",
    "    total , d = 0, 1\n",
    "    while d<n:\n",
    "        if n%d ==0:\n",
    "            total = total + d\n",
    "        d = d+1\n",
    "    return total\n",
    "\n",
    "def amicable(n):\n",
    "    n= n+1\n",
    "    while True:\n",
    "        m = sum_divisors(n)\n",
    "        if sum_divisors(m)==n:\n",
    "            return n\n",
    "        n = n+1"
   ]
  },
  {
   "cell_type": "code",
   "execution_count": 8,
   "metadata": {},
   "outputs": [
    {
     "data": {
      "text/plain": [
       "220"
      ]
     },
     "execution_count": 8,
     "metadata": {},
     "output_type": "execute_result"
    }
   ],
   "source": [
    "amicable(200)"
   ]
  },
  {
   "cell_type": "code",
   "execution_count": 9,
   "metadata": {},
   "outputs": [
    {
     "data": {
      "text/plain": [
       "284"
      ]
     },
     "execution_count": 9,
     "metadata": {},
     "output_type": "execute_result"
    }
   ],
   "source": [
    "amicable(220)"
   ]
  },
  {
   "cell_type": "code",
   "execution_count": null,
   "metadata": {
    "collapsed": true
   },
   "outputs": [],
   "source": []
  }
 ],
 "metadata": {
  "kernelspec": {
   "display_name": "Python 3",
   "language": "python",
   "name": "python3"
  },
  "language_info": {
   "codemirror_mode": {
    "name": "ipython",
    "version": 3
   },
   "file_extension": ".py",
   "mimetype": "text/x-python",
   "name": "python",
   "nbconvert_exporter": "python",
   "pygments_lexer": "ipython3",
   "version": "3.6.1"
  }
 },
 "nbformat": 4,
 "nbformat_minor": 2
}
